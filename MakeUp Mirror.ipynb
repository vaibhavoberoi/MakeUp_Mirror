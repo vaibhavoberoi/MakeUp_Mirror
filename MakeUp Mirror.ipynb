{
 "cells": [
  {
   "cell_type": "code",
   "execution_count": null,
   "metadata": {},
   "outputs": [],
   "source": [
    "import cv2\n",
    "import face_recognition\n",
    "from PIL import Image,ImageDraw\n",
    "import numpy as np\n",
    "\n",
    "cv2.namedWindow(\"MakeUp Mirror\")\n",
    "vc=cv2.VideoCapture(0)\n",
    "\n",
    "while vc.isOpened():\n",
    "    ret,frame=vc.read()\n",
    "    \n",
    "    face_landmarks_list=face_recognition.face_landmarks(frame)\n",
    "    pil_image=Image.fromarray(frame)\n",
    "    \n",
    "    for face_landmarks in face_landmarks_list:\n",
    "        d=ImageDraw.Draw(pil_image,'RGBA')  #RGBA for the drawing to blend into the original image\n",
    "    \n",
    "       # Making the eyebrows darker\n",
    "        d.polygon(face_landmarks['left_eyebrow'], fill=(0, 0, 0, 128))\n",
    "        d.polygon(face_landmarks['right_eyebrow'], fill=(0, 0, 0, 128))\n",
    "        d.line(face_landmarks['left_eyebrow'] +[face_landmarks['left_eyebrow'][0]], fill=(0, 0, 0, 150), width=5)\n",
    "        d.line(face_landmarks['right_eyebrow'] +[face_landmarks['right_eyebrow'][0]], fill=(0, 0, 0, 150), width=5)\n",
    "\n",
    "        # Applying lipstick(light) and lip border(darker)\n",
    "        d.polygon(face_landmarks['top_lip'], fill=(0, 0, 95, 120))\n",
    "        d.polygon(face_landmarks['bottom_lip'], fill=(0, 0, 95, 120))\n",
    "        d.line(face_landmarks['top_lip'], fill=(0, 0, 110, 150), width=8)\n",
    "        d.line(face_landmarks['bottom_lip'] , fill=(0,0,110, 150), width=8)\n",
    "\n",
    "        # Filling the eyes\n",
    "        d.polygon(face_landmarks['left_eye']+[face_landmarks['left_eye'][0]], fill=(0, 0, 0, 30))\n",
    "        d.polygon(face_landmarks['right_eye']+[face_landmarks['right_eye'][0]], fill=(0, 0, 0, 30))\n",
    "\n",
    "        # Applying eyeliner\n",
    "        d.line(face_landmarks['left_eye']+[face_landmarks['left_eye'][0]] , fill=(0, 0, 0, 110), width=6)\n",
    "        d.line(face_landmarks['right_eye'] + [face_landmarks['right_eye'][0]], fill=(0, 0, 0, 110), width=6)\n",
    "\n",
    "    img=np.array(pil_image)\n",
    "\n",
    "    \n",
    "    \n",
    "    cv2.imshow(\"MakeUp Mirror\",img)\n",
    "    key = cv2.waitKey(20)\n",
    "    if key==27:\n",
    "        break\n",
    "        \n",
    "vc.release()\n",
    "cv2.destroyAllWindows()"
   ]
  }
 ],
 "metadata": {
  "kernelspec": {
   "display_name": "Python 3",
   "language": "python",
   "name": "python3"
  },
  "language_info": {
   "codemirror_mode": {
    "name": "ipython",
    "version": 3
   },
   "file_extension": ".py",
   "mimetype": "text/x-python",
   "name": "python",
   "nbconvert_exporter": "python",
   "pygments_lexer": "ipython3",
   "version": "3.7.3"
  }
 },
 "nbformat": 4,
 "nbformat_minor": 2
}
